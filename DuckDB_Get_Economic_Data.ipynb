{
 "cells": [
  {
   "cell_type": "markdown",
   "id": "cc5de538",
   "metadata": {},
   "source": [
    "### Load Libraries"
   ]
  },
  {
   "cell_type": "code",
   "execution_count": null,
   "id": "5bba834a",
   "metadata": {},
   "outputs": [],
   "source": [
    "import pandas as pd\n",
    "import numpy as np\n",
    "import duckdb\n",
    "from edgar import Company, find, set_identity, MultiFinancials\n",
    "set_identity(\"torbj_storli@gmail.com\")"
   ]
  },
  {
   "cell_type": "markdown",
   "id": "c392ace7",
   "metadata": {},
   "source": [
    "### Get data from EDGAR using edgartools package"
   ]
  },
  {
   "cell_type": "code",
   "execution_count": null,
   "id": "146c943e",
   "metadata": {},
   "outputs": [],
   "source": [
    "company = Company(\"ABBV\")\n",
    "company"
   ]
  },
  {
   "cell_type": "markdown",
   "id": "a03ef6b0",
   "metadata": {},
   "source": [
    "### Create a XBRL object that holds ds the latest 10-Q filing"
   ]
  },
  {
   "cell_type": "code",
   "execution_count": null,
   "id": "d38648f4",
   "metadata": {},
   "outputs": [],
   "source": [
    "filing = company.get_filings(form=\"10-Q\").latest()"
   ]
  },
  {
   "cell_type": "code",
   "execution_count": null,
   "id": "1150f2ed",
   "metadata": {},
   "outputs": [],
   "source": [
    "text = filing.text()  # Clean, readable text\n",
    "print(text)"
   ]
  },
  {
   "cell_type": "markdown",
   "id": "57d4d323",
   "metadata": {},
   "source": [
    "### Get the company's latest 10K Filing"
   ]
  },
  {
   "cell_type": "code",
   "execution_count": null,
   "id": "5d6a5ae6",
   "metadata": {},
   "outputs": [],
   "source": [
    "filing = company.get_filings(form=\"10-K\").latest()"
   ]
  },
  {
   "cell_type": "code",
   "execution_count": null,
   "id": "20a065eb",
   "metadata": {},
   "outputs": [],
   "source": [
    "text = filing.text()  # Clean, readable text\n",
    "print(text)"
   ]
  },
  {
   "cell_type": "markdown",
   "id": "8e23bbfc",
   "metadata": {},
   "source": [
    "### Create multi-period financials"
   ]
  },
  {
   "cell_type": "code",
   "execution_count": null,
   "id": "4d1a8af6",
   "metadata": {},
   "outputs": [],
   "source": [
    "filings = company.get_filings(form=\"10-K\").head(6)"
   ]
  },
  {
   "cell_type": "code",
   "execution_count": null,
   "id": "0633ab54",
   "metadata": {},
   "outputs": [],
   "source": [
    "multi_financials = MultiFinancials.extract(filings)\n",
    "\n",
    "# Access statements spanning multiple years\n",
    "balance_sheet = multi_financials.balance_sheet()\n",
    "income_statement = multi_financials.income_statement()\n",
    "cash_flow = multi_financials.cashflow_statement()"
   ]
  },
  {
   "cell_type": "code",
   "execution_count": null,
   "id": "4318c127",
   "metadata": {},
   "outputs": [],
   "source": [
    "# Query specific financial items\n",
    "revenue = income_statement.statement_data.get(\"Revenue\")\n",
    "net_income = income_statement.statement_data.get(\"Net Income\")\n",
    "total_assets = balance_sheet.statement_data.get(\"Total Assets\")"
   ]
  },
  {
   "cell_type": "code",
   "execution_count": null,
   "id": "ddae9eba",
   "metadata": {},
   "outputs": [],
   "source": [
    "print(revenue)\n",
    "print(net_income)\n",
    "print(total_assets)"
   ]
  },
  {
   "cell_type": "markdown",
   "id": "54a48fea",
   "metadata": {},
   "source": [
    "### Print object Type"
   ]
  },
  {
   "cell_type": "code",
   "execution_count": null,
   "id": "534f7f0b",
   "metadata": {},
   "outputs": [],
   "source": [
    "print(type(multi_financials))\n",
    "print(type(income_statement))"
   ]
  },
  {
   "cell_type": "markdown",
   "id": "8b97625a",
   "metadata": {},
   "source": [
    "### Print Multi-Year Income Statement"
   ]
  },
  {
   "cell_type": "code",
   "execution_count": null,
   "id": "629036a0",
   "metadata": {},
   "outputs": [],
   "source": [
    "print(\"Multi-Year Income Statement\")\n",
    "print(income_statement)"
   ]
  },
  {
   "cell_type": "markdown",
   "id": "798ade7a",
   "metadata": {},
   "source": [
    "### Print Multi-Year Balance Sheet"
   ]
  },
  {
   "cell_type": "code",
   "execution_count": null,
   "id": "d833f307",
   "metadata": {},
   "outputs": [],
   "source": [
    "print(\"Multi-Year Balance Sheet\")\n",
    "print(balance_sheet)"
   ]
  },
  {
   "cell_type": "markdown",
   "id": "4d878b79",
   "metadata": {},
   "source": [
    "### Print Multi-Year Cash Flow Statement"
   ]
  },
  {
   "cell_type": "code",
   "execution_count": null,
   "id": "15c6ee4f",
   "metadata": {},
   "outputs": [],
   "source": [
    "print(\"Multi-Year Cash Flow Statement\")\n",
    "print(cash_flow)"
   ]
  },
  {
   "cell_type": "markdown",
   "id": "80f71176",
   "metadata": {},
   "source": [
    "### Create a list of the Income Statement's Column Names"
   ]
  },
  {
   "cell_type": "code",
   "execution_count": null,
   "id": "9c88ebdc",
   "metadata": {},
   "outputs": [],
   "source": [
    "is_df = income_statement.to_dataframe() \n",
    "is_all_cols = is_df.columns.tolist()\n",
    "is_all_cols"
   ]
  },
  {
   "cell_type": "markdown",
   "id": "b47d8aa9",
   "metadata": {},
   "source": [
    "### Reduce dataframe to only include columns we need"
   ]
  },
  {
   "cell_type": "code",
   "execution_count": null,
   "id": "a1fd72d7",
   "metadata": {},
   "outputs": [],
   "source": [
    "is_all_cols = ['label',\n",
    " 'concept',\n",
    " '2024-12-31',\n",
    " '2023-12-31',\n",
    " '2022-12-31',\n",
    " '2021-12-31',\n",
    " '2020-12-31',\n",
    " '2019-12-31'\n",
    "]"
   ]
  },
  {
   "cell_type": "code",
   "execution_count": null,
   "id": "ec28a0ad",
   "metadata": {},
   "outputs": [],
   "source": [
    "is_cols = [x for x in is_all_cols if x != 'concept']\n",
    "is_cols\n"
   ]
  },
  {
   "cell_type": "code",
   "execution_count": null,
   "id": "2fa0d2cd",
   "metadata": {},
   "outputs": [],
   "source": [
    "#is_cols = is_all_cols  \n",
    "#is_cols.pop(1) # Removes 'concept' at index 1\n",
    "#is_df = income_statement.to_dataframe() \n",
    "is_df = is_df[is_cols]\n",
    "is_df"
   ]
  },
  {
   "cell_type": "markdown",
   "id": "d648b611",
   "metadata": {},
   "source": [
    "### Create a Balance Sheet Dataframe"
   ]
  },
  {
   "cell_type": "code",
   "execution_count": null,
   "id": "36b69d86",
   "metadata": {},
   "outputs": [],
   "source": [
    "bs_df = balance_sheet.to_dataframe()\n",
    "bs_df"
   ]
  },
  {
   "cell_type": "markdown",
   "id": "2104ab70",
   "metadata": {},
   "source": [
    "### Create a list of the Balance Sheet's Column Names"
   ]
  },
  {
   "cell_type": "code",
   "execution_count": null,
   "id": "7ad14879",
   "metadata": {},
   "outputs": [],
   "source": [
    "bs_all_cols = bs_df.columns.tolist()\n",
    "bs_all_cols"
   ]
  },
  {
   "cell_type": "markdown",
   "id": "f0c06697",
   "metadata": {},
   "source": [
    "### Reduce dataframe to only include columns we need"
   ]
  },
  {
   "cell_type": "code",
   "execution_count": null,
   "id": "d80a429a",
   "metadata": {},
   "outputs": [],
   "source": [
    "bs_cols = bs_all_cols  \n",
    "bs_cols.pop(1) # Removes 'concept' at index 1\n",
    "bs_df = bs_df[bs_cols]\n",
    "bs_df"
   ]
  },
  {
   "cell_type": "markdown",
   "id": "da1c50b2",
   "metadata": {},
   "source": [
    "### Create a Cash Flow Statement Dataframe"
   ]
  },
  {
   "cell_type": "code",
   "execution_count": null,
   "id": "474aaf42",
   "metadata": {},
   "outputs": [],
   "source": [
    "cf_df = cash_flow.to_dataframe()\n",
    "cf_df "
   ]
  },
  {
   "cell_type": "markdown",
   "id": "6d2a23a3",
   "metadata": {},
   "source": [
    "### Create a list of the Cash Flow Statemenment's Column Names"
   ]
  },
  {
   "cell_type": "code",
   "execution_count": null,
   "id": "eaf21478",
   "metadata": {},
   "outputs": [],
   "source": [
    "cf_all_cols = cf_df.columns.tolist()\n",
    "cf_all_cols"
   ]
  },
  {
   "cell_type": "markdown",
   "id": "cf67a7c1",
   "metadata": {},
   "source": [
    "### Reduce dataframe to only include columns we need"
   ]
  },
  {
   "cell_type": "code",
   "execution_count": null,
   "id": "5844b7d4",
   "metadata": {},
   "outputs": [],
   "source": [
    "cf_cols = cf_all_cols  \n",
    "cf_cols.pop(1) # Removes 'concept' at index 1\n",
    "cf_df = cf_df[cf_cols]\n",
    "cf_df"
   ]
  },
  {
   "cell_type": "markdown",
   "id": "2aa51db9",
   "metadata": {},
   "source": [
    "### Create a new DuckDB Database"
   ]
  },
  {
   "cell_type": "code",
   "execution_count": null,
   "id": "18f732ea",
   "metadata": {},
   "outputs": [],
   "source": [
    "#conn.close()\n",
    "conn = duckdb.connect(\"financials.db\")"
   ]
  },
  {
   "cell_type": "markdown",
   "id": "ded7d859",
   "metadata": {},
   "source": [
    "### Create tables to hold the\n",
    "- Income Statement\n",
    "- Balance Sheet\n",
    "- Cash Flow statement data"
   ]
  },
  {
   "cell_type": "code",
   "execution_count": null,
   "id": "afef1d6b",
   "metadata": {},
   "outputs": [],
   "source": [
    "def optimize_financial_df(df, cols):\n",
    "    \"\"\"Optimize data types for financial dataframes and select only needed columns\"\"\"\n",
    "    optimized_df = df[cols].copy()\n",
    "    \n",
    "    # Get the number of columns to determine how many numeric columns to convert\n",
    "    num_cols = len(optimized_df.columns)\n",
    "    \n",
    "    # Convert all columns from position 1 onwards to numeric (skipping 'label')\n",
    "    for i in range(1, num_cols):\n",
    "        optimized_df.iloc[:, i] = pd.to_numeric(optimized_df.iloc[:, i], errors='coerce')\n",
    "        # Note: errors='coerce' -> If a value cannot be converted to a number → replaces \n",
    "        # it with NaN (Not a Number) and continues processing without throwing an error \n",
    "        \n",
    "    # Create dtype dictionary for all numeric columns\n",
    "    dtype_dict = {}\n",
    "    for i in range(1, num_cols):\n",
    "        dtype_dict[optimized_df.columns[i]] = 'float64'\n",
    "    \n",
    "    # Apply the dtype changes\n",
    "    optimized_df = optimized_df.astype(dtype_dict)\n",
    "    \n",
    "    return optimized_df"
   ]
  },
  {
   "cell_type": "markdown",
   "id": "ac25e1d2",
   "metadata": {},
   "source": [
    "### Optimize the dataframes"
   ]
  },
  {
   "cell_type": "code",
   "execution_count": null,
   "id": "db8eaceb",
   "metadata": {},
   "outputs": [],
   "source": [
    "income_statement_opt = optimize_financial_df(is_df, is_cols)\n",
    "balance_sheet_opt = optimize_financial_df(bs_df, bs_cols)\n",
    "cash_flow_opt = optimize_financial_df(cf_df, cf_cols)"
   ]
  },
  {
   "cell_type": "markdown",
   "id": "acc9b973",
   "metadata": {},
   "source": [
    "### Verify that dataframe data is valid"
   ]
  },
  {
   "cell_type": "code",
   "execution_count": null,
   "id": "a54fe451",
   "metadata": {},
   "outputs": [],
   "source": [
    "print(income_statement_opt.info())\n",
    "print(balance_sheet_opt.info())\n",
    "print(cash_flow_opt.info())"
   ]
  },
  {
   "cell_type": "markdown",
   "id": "f897068c",
   "metadata": {},
   "source": [
    "### Clean the dataframes"
   ]
  },
  {
   "cell_type": "code",
   "execution_count": null,
   "id": "ff324e54",
   "metadata": {},
   "outputs": [],
   "source": [
    "def clean_financial_dataframe(df):\n",
    "    \"\"\"Clean financial DataFrame by converting all non-label columns to numeric\"\"\"\n",
    "    df_clean = df.copy()\n",
    "    \n",
    "    for col in df_clean.columns:\n",
    "        if col != 'label':\n",
    "            # Replace empty strings, 'None', 'NaN' strings with actual NaN\n",
    "            df_clean[col] = df_clean[col].replace(['', 'None', 'NaN', None], np.nan)\n",
    "            # Convert to numeric, coercing errors to NaN\n",
    "            df_clean[col] = pd.to_numeric(df_clean[col], errors='coerce')\n",
    "    \n",
    "    return df_clean"
   ]
  },
  {
   "cell_type": "code",
   "execution_count": null,
   "id": "e9e2b375",
   "metadata": {},
   "outputs": [],
   "source": [
    "# Clean DataFrames\n",
    "income_statement_opt_clean = clean_financial_dataframe(income_statement_opt)\n",
    "balance_sheet_opt_clean = clean_financial_dataframe(balance_sheet_opt)\n",
    "cash_flow_opt_clean = clean_financial_dataframe(cash_flow_opt)\n",
    "\n",
    "# Check the result\n",
    "print(\"After cleaning:\")\n",
    "print(balance_sheet_opt_clean.info())\n",
    "print(balance_sheet_opt_clean.dtypes)\n"
   ]
  },
  {
   "cell_type": "markdown",
   "id": "31077549",
   "metadata": {},
   "source": [
    "### Create Tables in DuckDB"
   ]
  },
  {
   "cell_type": "code",
   "execution_count": null,
   "id": "6d668335",
   "metadata": {},
   "outputs": [],
   "source": [
    "def build_create_table_query(cols, table_name, source_table):\n",
    "    \"\"\"\n",
    "    Build a dynamic CREATE TABLE AS SELECT query for DuckDB.\n",
    "    \n",
    "    Args:\n",
    "        cols (list): List of column names\n",
    "        table_name (str): Name of the table to create\n",
    "        source_table (str): Name of the source table to select from\n",
    "    \n",
    "    Returns:\n",
    "        str: The complete SQL query string\n",
    "    \"\"\"\n",
    "    select_clauses = [\n",
    "        f'{col}::VARCHAR as {col}' if col == 'label' \n",
    "        else f'\"{col}\"::DOUBLE as \"{col}\"'\n",
    "        for col in cols\n",
    "    ]\n",
    "    \n",
    "    query = f\"\"\"CREATE TABLE {table_name} AS \n",
    "SELECT \n",
    "    {',\\n    '.join(select_clauses)}\n",
    "FROM {source_table}\"\"\"\n",
    "    \n",
    "    return query\n",
    "\n",
    "\n",
    "    # Use with conn.execute:\n",
    "    # conn.execute(query)"
   ]
  },
  {
   "cell_type": "markdown",
   "id": "342a07da",
   "metadata": {},
   "source": [
    "### See if any Tables Exists"
   ]
  },
  {
   "cell_type": "code",
   "execution_count": null,
   "id": "266ce6e7",
   "metadata": {},
   "outputs": [],
   "source": [
    "conn.sql(\"SHOW Tables\")"
   ]
  },
  {
   "cell_type": "markdown",
   "id": "d4c15926",
   "metadata": {},
   "source": [
    "### Create and Execute DuckDB Insert Statements"
   ]
  },
  {
   "cell_type": "code",
   "execution_count": null,
   "id": "d39cdc19",
   "metadata": {},
   "outputs": [],
   "source": [
    "queryIS = build_create_table_query(is_cols, 'income_statement', 'income_statement_opt_clean')\n",
    "print(queryIS)\n",
    "conn.execute(queryIS)\n",
    "\n",
    "queryBS = build_create_table_query(bs_cols, 'balance_sheet', 'balance_sheet_opt_clean')\n",
    "print(queryBS)\n",
    "conn.execute(queryBS)\n",
    "\n",
    "queryCF = build_create_table_query(cf_cols, 'cash_flow', 'cash_flow_opt_clean')\n",
    "print(queryCF)    \n",
    "conn.execute(queryCF)"
   ]
  },
  {
   "cell_type": "markdown",
   "id": "fdcc0885",
   "metadata": {},
   "source": [
    "### Create DataFrames for each table"
   ]
  },
  {
   "cell_type": "code",
   "execution_count": null,
   "id": "88b3f3df",
   "metadata": {},
   "outputs": [],
   "source": [
    "income_sample = conn.execute(\"SELECT * FROM income_statement LIMIT 5\").df()\n",
    "balance_sample = conn.execute(\"SELECT * FROM balance_sheet LIMIT 5\").df()\n",
    "cash_flow_sample = conn.execute(\"SELECT * FROM cash_flow LIMIT 5\").df()"
   ]
  },
  {
   "cell_type": "code",
   "execution_count": null,
   "id": "c35ca4b5",
   "metadata": {},
   "outputs": [],
   "source": [
    "income_sample"
   ]
  },
  {
   "cell_type": "code",
   "execution_count": null,
   "id": "088c2656",
   "metadata": {},
   "outputs": [],
   "source": [
    "balance_sample"
   ]
  },
  {
   "cell_type": "code",
   "execution_count": null,
   "id": "55b76da7",
   "metadata": {},
   "outputs": [],
   "source": [
    "cash_flow_sample"
   ]
  },
  {
   "cell_type": "markdown",
   "id": "887c3f3f",
   "metadata": {},
   "source": [
    "#### Close Connection to DuckDB"
   ]
  },
  {
   "cell_type": "code",
   "execution_count": null,
   "id": "9506ecb5",
   "metadata": {},
   "outputs": [],
   "source": [
    "conn.close()"
   ]
  },
  {
   "cell_type": "markdown",
   "id": "eabdbcec",
   "metadata": {},
   "source": [
    "### Show all EdgarTools available attributes/classes"
   ]
  },
  {
   "cell_type": "code",
   "execution_count": null,
   "id": "88f0871b",
   "metadata": {},
   "outputs": [],
   "source": [
    "import edgar\n",
    "print(dir(edgar))  # Shows all available attributes/classes\n",
    "\n",
    "# Or use help\n",
    "#help(edgar)\n"
   ]
  },
  {
   "cell_type": "markdown",
   "id": "04a9be0f",
   "metadata": {},
   "source": [
    "#### <center>END OF SCRIPT</center> "
   ]
  }
 ],
 "metadata": {
  "language_info": {
   "name": "python"
  }
 },
 "nbformat": 4,
 "nbformat_minor": 5
}
